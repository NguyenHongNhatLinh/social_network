{
 "cells": [
  {
   "cell_type": "code",
   "execution_count": 11,
   "metadata": {
    "colab": {
     "base_uri": "https://localhost:8080/"
    },
    "id": "ma5BTSJ6CqBH",
    "outputId": "a6c4e837-f910-41d0-c3c0-691864e6e73b"
   },
   "outputs": [
    {
     "name": "stdout",
     "output_type": "stream",
     "text": [
      "Requirement already satisfied: facebook-sdk in /Library/Frameworks/Python.framework/Versions/3.11/lib/python3.11/site-packages (3.1.0)\n",
      "Requirement already satisfied: requests in /Library/Frameworks/Python.framework/Versions/3.11/lib/python3.11/site-packages (from facebook-sdk) (2.32.3)\n",
      "Requirement already satisfied: charset-normalizer<4,>=2 in /Library/Frameworks/Python.framework/Versions/3.11/lib/python3.11/site-packages (from requests->facebook-sdk) (3.3.2)\n",
      "Requirement already satisfied: idna<4,>=2.5 in /Library/Frameworks/Python.framework/Versions/3.11/lib/python3.11/site-packages (from requests->facebook-sdk) (3.8)\n",
      "Requirement already satisfied: urllib3<3,>=1.21.1 in /Library/Frameworks/Python.framework/Versions/3.11/lib/python3.11/site-packages (from requests->facebook-sdk) (2.2.2)\n",
      "Requirement already satisfied: certifi>=2017.4.17 in /Library/Frameworks/Python.framework/Versions/3.11/lib/python3.11/site-packages (from requests->facebook-sdk) (2024.8.30)\n",
      "\n",
      "\u001b[1m[\u001b[0m\u001b[34;49mnotice\u001b[0m\u001b[1;39;49m]\u001b[0m\u001b[39;49m A new release of pip is available: \u001b[0m\u001b[31;49m24.2\u001b[0m\u001b[39;49m -> \u001b[0m\u001b[32;49m24.3.1\u001b[0m\n",
      "\u001b[1m[\u001b[0m\u001b[34;49mnotice\u001b[0m\u001b[1;39;49m]\u001b[0m\u001b[39;49m To update, run: \u001b[0m\u001b[32;49mpip install --upgrade pip\u001b[0m\n",
      "Note: you may need to restart the kernel to use updated packages.\n"
     ]
    }
   ],
   "source": [
    "pip install facebook-sdk"
   ]
  },
  {
   "cell_type": "code",
   "execution_count": 12,
   "metadata": {
    "id": "mERmN8UyBtg-"
   },
   "outputs": [],
   "source": [
    "import facebook\n",
    "import openpyxl\n",
    "import json\n",
    "from datetime import datetime\n",
    "import time\n",
    "from collections import defaultdict\n",
    "import pandas as pd"
   ]
  },
  {
   "cell_type": "code",
   "execution_count": 13,
   "metadata": {
    "colab": {
     "base_uri": "https://localhost:8080/"
    },
    "id": "6ni88o3VDB9O",
    "outputId": "912f5f8c-3d3c-474e-cd43-3fa8e80ed5d5"
   },
   "outputs": [
    {
     "name": "stdout",
     "output_type": "stream",
     "text": [
      "Token hợp lệ\n",
      "ID--------------------Created Time-------------Message\n",
      "2273415199718380_2190881021305132----------2024-08-21T16:03:51+0000-------No message\n",
      "2273415199718380_1966341690425734----------2023-08-31T14:30:31+0000-------👀\n",
      "2273415199718380_1950521992007704----------2023-08-04T11:54:46+0000-------No message\n",
      "2273415199718380_1689391058120800----------2022-07-25T14:47:08+0000-------No message\n",
      "2273415199718380_1255290908197486----------2020-11-01T11:30:28+0000-------Một nụ cười bằng mười than thuốc bổ\n",
      "Cậu cười tớ đổ thế là yêu!❤\n",
      "dữ liệu đã lưu vào facebook_data.xlsx\n"
     ]
    }
   ],
   "source": [
    "class FacebookCollector:\n",
    "    def __init__(self, access_token):\n",
    "        try:\n",
    "            self.access_token = access_token\n",
    "            self.graph = facebook.GraphAPI(access_token)\n",
    "        except Exception as e:\n",
    "            print(f\"Error: {e}\")\n",
    "\n",
    "    def checks_token_validity(self):\n",
    "        try:\n",
    "            me = self.graph.get_object(\"me\", fields=\"id,name\")\n",
    "            print(\"Token hợp lệ\")\n",
    "            return True\n",
    "        except Exception:\n",
    "            print(\"Token không hợp lệ\")\n",
    "            return False\n",
    "\n",
    "    def collect_data(self, limit=5):\n",
    "        try:\n",
    "            fields = 'id,message,created_time'\n",
    "            posts = self.graph.get_object(\n",
    "                \"me/feed\",\n",
    "                fields=fields,\n",
    "                limit=limit\n",
    "            )\n",
    "            return posts.get('data', [])\n",
    "        except Exception as e:\n",
    "            print(f\"lỗi thu thập dữ liệu: {e}\")\n",
    "            return []\n",
    "\n",
    "def save_to_excel(data, file_name=\"facebook_data.xlsx\"):\n",
    "    try:\n",
    "        # Tạo file Excel mới\n",
    "        workbook = openpyxl.Workbook()\n",
    "        sheet = workbook.active\n",
    "        sheet.title = \"Facebook Data\"\n",
    "\n",
    "        # Ghi tiêu đề cột\n",
    "        sheet.append([\"id\", \"created_time\", \"message\"])\n",
    "\n",
    "        # Ghi dữ liệu vào file\n",
    "        for post in data:\n",
    "            post_id = post.get('id', '')\n",
    "            created_time = post.get('created_time', '')\n",
    "            message = post.get('message', '')\n",
    "            sheet.append([post_id, created_time, message])\n",
    "\n",
    "        # Lưu file Excel\n",
    "        workbook.save(file_name)\n",
    "        print(f\"dữ liệu đã lưu vào {file_name}\")\n",
    "    except Exception as e:\n",
    "        print(f\"lỗi lưu tệp: {e}\")\n",
    "\n",
    "def display_data(data):\n",
    "    print(\"ID--------------------Created Time-------------Message\")\n",
    "    for post in data:\n",
    "        post_id = post.get('id', 'N/A')\n",
    "        created_time = post.get('created_time', 'N/A')\n",
    "        message = post.get('message', 'No message')\n",
    "        print(f\"{post_id}----------{created_time}-------{message}\")\n",
    "\n",
    "# Sử dụng\n",
    "access_token = \"EAAPxDQtZAzT0BO3qhDPsxZBZAEIZCWXo7uUuMCu1GeX1SToQBl5Gga8kL961mzDDS4dTATMZBeVsWjcHsuD3hNZA85gOwJ9HlZCq8cA3eBAMZBW2gZB8uLZAvrMFTdU1K9xdtnPhngENsy8cbwZC5XV7aQxyHGRxZBDKlm43dFYpL05TYSnWpOKElKkeMarNaHYWbIgyiUOHW8uZBkIlk6VCoaey292drNhAbR8ZCJLsoC1wCmTisQkLicv6JzETMlJpvI1ZAmgUpafto3pCjUZD\"\n",
    "collector = FacebookCollector(access_token)\n",
    "\n",
    "if collector.checks_token_validity():\n",
    "    data = collector.collect_data(limit=10)\n",
    "    display_data(data)\n",
    "    save_to_excel(data, \"facebook_data.xlsx\")\n",
    "else:\n",
    "    print(\"Invalid Access Token\")\n"
   ]
  },
  {
   "cell_type": "code",
   "execution_count": null,
   "metadata": {
    "id": "qbYZksIkXCMa"
   },
   "outputs": [],
   "source": []
  },
  {
   "cell_type": "code",
   "execution_count": null,
   "metadata": {},
   "outputs": [],
   "source": []
  }
 ],
 "metadata": {
  "colab": {
   "provenance": []
  },
  "kernelspec": {
   "display_name": "Python 3",
   "name": "python3"
  },
  "language_info": {
   "codemirror_mode": {
    "name": "ipython",
    "version": 3
   },
   "file_extension": ".py",
   "mimetype": "text/x-python",
   "name": "python",
   "nbconvert_exporter": "python",
   "pygments_lexer": "ipython3",
   "version": "3.11.3"
  }
 },
 "nbformat": 4,
 "nbformat_minor": 0
}
